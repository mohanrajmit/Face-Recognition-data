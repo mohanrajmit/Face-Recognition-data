{
  "nbformat": 4,
  "nbformat_minor": 0,
  "metadata": {
    "colab": {
      "name": "Facial-Expression-Recognition-Challenge.ipynb",
      "version": "0.3.2",
      "provenance": []
    },
    "kernelspec": {
      "display_name": "Python 3",
      "language": "python",
      "name": "python3"
    },
    "accelerator": "GPU"
  },
  "cells": [
    {
      "metadata": {
        "id": "PPK9xk1TVhjX",
        "colab_type": "code",
        "colab": {
          "base_uri": "https://localhost:8080/",
          "height": 34
        },
        "outputId": "a82bae3d-727a-409f-f4ed-cfe8923620af"
      },
      "cell_type": "code",
      "source": [
        "import tarfile\n",
        "import pandas as pd\n",
        "import numpy as np\n",
        "import matplotlib.pyplot as plt\n",
        "from keras.models import Sequential, Model, model_from_json\n",
        "from keras.layers import Dense, Conv2D, Activation, MaxPool2D, Flatten, Dropout, BatchNormalization\n",
        "from keras.utils import np_utils\n",
        "from keras.callbacks import ModelCheckpoint\n",
        "\n",
        "%matplotlib inline"
      ],
      "execution_count": 1,
      "outputs": [
        {
          "output_type": "stream",
          "text": [
            "Using TensorFlow backend.\n"
          ],
          "name": "stderr"
        }
      ]
    },
    {
      "metadata": {
        "id": "CVMewinyYvGR",
        "colab_type": "code",
        "colab": {}
      },
      "cell_type": "code",
      "source": [
        "!pip install PyDrive"
      ],
      "execution_count": 0,
      "outputs": []
    },
    {
      "metadata": {
        "id": "itXiQEuJcv8a",
        "colab_type": "code",
        "colab": {}
      },
      "cell_type": "code",
      "source": [
        "import os\n",
        "from pydrive.auth import GoogleAuth\n",
        "from pydrive.drive import GoogleDrive\n",
        "from google.colab import auth\n",
        "from oauth2client.client import GoogleCredentials"
      ],
      "execution_count": 0,
      "outputs": []
    },
    {
      "metadata": {
        "id": "YWiFJu-lcytj",
        "colab_type": "code",
        "colab": {}
      },
      "cell_type": "code",
      "source": [
        "auth.authenticate_user()\n",
        "gauth = GoogleAuth()\n",
        "gauth.credentials = GoogleCredentials.get_application_default()\n",
        "drive = GoogleDrive(gauth)"
      ],
      "execution_count": 0,
      "outputs": []
    },
    {
      "metadata": {
        "id": "DGALM2TDc37i",
        "colab_type": "code",
        "colab": {}
      },
      "cell_type": "code",
      "source": [
        "download = drive.CreateFile({'id': '1LqINjlA9zCAlUPisiQGvm9cRuHCtSf_K'})\n",
        "download.GetContentFile('fer2013.tar')"
      ],
      "execution_count": 0,
      "outputs": []
    },
    {
      "metadata": {
        "id": "UKVrCnOwekKZ",
        "colab_type": "code",
        "colab": {}
      },
      "cell_type": "code",
      "source": [
        ""
      ],
      "execution_count": 0,
      "outputs": []
    },
    {
      "metadata": {
        "id": "mUbpkbFwVhjf",
        "colab_type": "code",
        "colab": {
          "base_uri": "https://localhost:8080/",
          "height": 204
        },
        "outputId": "f6e7726b-0fc3-4510-a1cb-5a912514928d"
      },
      "cell_type": "code",
      "source": [
        "tar = tarfile.open(\"fer2013.tar\")\n",
        "df = pd.read_csv(tar.extractfile(\"fer2013/fer2013.csv\"))\n",
        "df.head()"
      ],
      "execution_count": 13,
      "outputs": [
        {
          "output_type": "execute_result",
          "data": {
            "text/html": [
              "<div>\n",
              "<style scoped>\n",
              "    .dataframe tbody tr th:only-of-type {\n",
              "        vertical-align: middle;\n",
              "    }\n",
              "\n",
              "    .dataframe tbody tr th {\n",
              "        vertical-align: top;\n",
              "    }\n",
              "\n",
              "    .dataframe thead th {\n",
              "        text-align: right;\n",
              "    }\n",
              "</style>\n",
              "<table border=\"1\" class=\"dataframe\">\n",
              "  <thead>\n",
              "    <tr style=\"text-align: right;\">\n",
              "      <th></th>\n",
              "      <th>emotion</th>\n",
              "      <th>pixels</th>\n",
              "      <th>Usage</th>\n",
              "    </tr>\n",
              "  </thead>\n",
              "  <tbody>\n",
              "    <tr>\n",
              "      <th>0</th>\n",
              "      <td>0</td>\n",
              "      <td>70 80 82 72 58 58 60 63 54 58 60 48 89 115 121...</td>\n",
              "      <td>Training</td>\n",
              "    </tr>\n",
              "    <tr>\n",
              "      <th>1</th>\n",
              "      <td>0</td>\n",
              "      <td>151 150 147 155 148 133 111 140 170 174 182 15...</td>\n",
              "      <td>Training</td>\n",
              "    </tr>\n",
              "    <tr>\n",
              "      <th>2</th>\n",
              "      <td>2</td>\n",
              "      <td>231 212 156 164 174 138 161 173 182 200 106 38...</td>\n",
              "      <td>Training</td>\n",
              "    </tr>\n",
              "    <tr>\n",
              "      <th>3</th>\n",
              "      <td>4</td>\n",
              "      <td>24 32 36 30 32 23 19 20 30 41 21 22 32 34 21 1...</td>\n",
              "      <td>Training</td>\n",
              "    </tr>\n",
              "    <tr>\n",
              "      <th>4</th>\n",
              "      <td>6</td>\n",
              "      <td>4 0 0 0 0 0 0 0 0 0 0 0 3 15 23 28 48 50 58 84...</td>\n",
              "      <td>Training</td>\n",
              "    </tr>\n",
              "  </tbody>\n",
              "</table>\n",
              "</div>"
            ],
            "text/plain": [
              "   emotion                                             pixels     Usage\n",
              "0        0  70 80 82 72 58 58 60 63 54 58 60 48 89 115 121...  Training\n",
              "1        0  151 150 147 155 148 133 111 140 170 174 182 15...  Training\n",
              "2        2  231 212 156 164 174 138 161 173 182 200 106 38...  Training\n",
              "3        4  24 32 36 30 32 23 19 20 30 41 21 22 32 34 21 1...  Training\n",
              "4        6  4 0 0 0 0 0 0 0 0 0 0 0 3 15 23 28 48 50 58 84...  Training"
            ]
          },
          "metadata": {
            "tags": []
          },
          "execution_count": 13
        }
      ]
    },
    {
      "metadata": {
        "id": "3MT6xD8lVhjk",
        "colab_type": "code",
        "colab": {
          "base_uri": "https://localhost:8080/",
          "height": 85
        },
        "outputId": "6fdf02c9-52b4-4de0-f25a-bb38923e5e4d"
      },
      "cell_type": "code",
      "source": [
        "df[\"Usage\"].value_counts()"
      ],
      "execution_count": 14,
      "outputs": [
        {
          "output_type": "execute_result",
          "data": {
            "text/plain": [
              "Training       28709\n",
              "PrivateTest     3589\n",
              "PublicTest      3589\n",
              "Name: Usage, dtype: int64"
            ]
          },
          "metadata": {
            "tags": []
          },
          "execution_count": 14
        }
      ]
    },
    {
      "metadata": {
        "id": "gucsuX3GVhjp",
        "colab_type": "code",
        "colab": {
          "base_uri": "https://localhost:8080/",
          "height": 68
        },
        "outputId": "7895f40e-e831-428f-92bb-1ed55eafd8c3"
      },
      "cell_type": "code",
      "source": [
        "train = df[[\"emotion\", \"pixels\"]][df[\"Usage\"] == \"Training\"]\n",
        "train.isnull().sum()"
      ],
      "execution_count": 16,
      "outputs": [
        {
          "output_type": "execute_result",
          "data": {
            "text/plain": [
              "emotion    0\n",
              "pixels     0\n",
              "dtype: int64"
            ]
          },
          "metadata": {
            "tags": []
          },
          "execution_count": 16
        }
      ]
    },
    {
      "metadata": {
        "id": "NtCqdyhQVhju",
        "colab_type": "code",
        "colab": {
          "base_uri": "https://localhost:8080/",
          "height": 34
        },
        "outputId": "c2e19b93-a750-4442-868f-2045d40f68a5"
      },
      "cell_type": "code",
      "source": [
        "train['pixels'] = train['pixels'].apply(lambda im: np.fromstring(im, sep=' '))\n",
        "x_train = np.vstack(train['pixels'].values)\n",
        "y_train = np.array(train[\"emotion\"])\n",
        "x_train.shape, y_train.shape"
      ],
      "execution_count": 17,
      "outputs": [
        {
          "output_type": "execute_result",
          "data": {
            "text/plain": [
              "((28709, 2304), (28709,))"
            ]
          },
          "metadata": {
            "tags": []
          },
          "execution_count": 17
        }
      ]
    },
    {
      "metadata": {
        "id": "ff_jCwwOVhjz",
        "colab_type": "code",
        "colab": {}
      },
      "cell_type": "code",
      "source": [
        "public_test_df = df[[\"emotion\", \"pixels\"]][df[\"Usage\"]==\"PublicTest\"]"
      ],
      "execution_count": 0,
      "outputs": []
    },
    {
      "metadata": {
        "id": "9SdlNDUxVhj2",
        "colab_type": "code",
        "colab": {}
      },
      "cell_type": "code",
      "source": [
        "public_test_df[\"pixels\"] = public_test_df[\"pixels\"].apply(lambda im: np.fromstring(im, sep=' '))\n",
        "x_test = np.vstack(public_test_df[\"pixels\"].values)\n",
        "y_test = np.array(public_test_df[\"emotion\"])"
      ],
      "execution_count": 0,
      "outputs": []
    },
    {
      "metadata": {
        "id": "2Y4KDwYWVhj6",
        "colab_type": "code",
        "colab": {
          "base_uri": "https://localhost:8080/",
          "height": 34
        },
        "outputId": "99f9cd59-4238-4ccc-ea72-19cec2447796"
      },
      "cell_type": "code",
      "source": [
        "x_train = x_train.reshape(-1, 48, 48, 1)\n",
        "x_test = x_test.reshape(-1, 48, 48, 1)\n",
        "x_train.shape, x_test.shape"
      ],
      "execution_count": 20,
      "outputs": [
        {
          "output_type": "execute_result",
          "data": {
            "text/plain": [
              "((28709, 48, 48, 1), (3589, 48, 48, 1))"
            ]
          },
          "metadata": {
            "tags": []
          },
          "execution_count": 20
        }
      ]
    },
    {
      "metadata": {
        "id": "GWXHJHADVhj9",
        "colab_type": "code",
        "colab": {
          "base_uri": "https://localhost:8080/",
          "height": 34
        },
        "outputId": "cd8569b4-49eb-4ea6-c701-22402907d67b"
      },
      "cell_type": "code",
      "source": [
        "y_train = np_utils.to_categorical(y_train)\n",
        "y_test = np_utils.to_categorical(y_test)\n",
        "y_train.shape, y_test.shape"
      ],
      "execution_count": 21,
      "outputs": [
        {
          "output_type": "execute_result",
          "data": {
            "text/plain": [
              "((28709, 7), (3589, 7))"
            ]
          },
          "metadata": {
            "tags": []
          },
          "execution_count": 21
        }
      ]
    },
    {
      "metadata": {
        "id": "eoNGRdGIVhkA",
        "colab_type": "code",
        "colab": {
          "base_uri": "https://localhost:8080/",
          "height": 441
        },
        "outputId": "10ea2212-ac9b-4c13-f9a3-fd8731dd8a53"
      },
      "cell_type": "code",
      "source": [
        "import seaborn as sns\n",
        "plt.figure(0, figsize=(12,6))\n",
        "for i in range(1, 13):\n",
        "    plt.subplot(3,4,i)\n",
        "    plt.imshow(x_train[i, :, :, 0], cmap=\"gray\")\n",
        "\n",
        "plt.tight_layout()\n",
        "plt.show()"
      ],
      "execution_count": 22,
      "outputs": [
        {
          "output_type": "display_data",
          "data": {
            "image/png": "[encoded data removed]",
            "text/plain": [
              "<matplotlib.figure.Figure at 0x7f562e215908>"
            ]
          },
          "metadata": {
            "tags": []
          }
        }
      ]
    },
    {
      "metadata": {
        "id": "ZeLD1MxhVhkE",
        "colab_type": "code",
        "colab": {
          "base_uri": "https://localhost:8080/",
          "height": 1020
        },
        "outputId": "1bb502f0-f929-4ad0-a59c-04a115c784ab"
      },
      "cell_type": "code",
      "source": [
        "model = Sequential()\n",
        "\n",
        "model.add(Conv2D(64, 3, data_format=\"channels_last\", kernel_initializer=\"he_normal\", \n",
        "                 input_shape=(48, 48, 1)))\n",
        "model.add(BatchNormalization())\n",
        "model.add(Activation(\"relu\"))\n",
        "\n",
        "model.add(Conv2D(64, 3))\n",
        "model.add(BatchNormalization())\n",
        "model.add(Activation(\"relu\"))\n",
        "model.add(MaxPool2D(pool_size=(2, 2), strides=2))\n",
        "model.add(Dropout(0.6))\n",
        "\n",
        "model.add(Conv2D(32, 3))\n",
        "model.add(BatchNormalization())\n",
        "model.add(Activation(\"relu\"))\n",
        "\n",
        "model.add(Conv2D(32, 3))\n",
        "model.add(BatchNormalization())\n",
        "model.add(Activation(\"relu\"))\n",
        "\n",
        "model.add(Conv2D(32, 3))\n",
        "model.add(BatchNormalization())\n",
        "model.add(Activation(\"relu\"))\n",
        "model.add(MaxPool2D(pool_size=(2, 2), strides=2))\n",
        "model.add(Dropout(0.6))\n",
        "\n",
        "model.add(Flatten())\n",
        "model.add(Dense(128))\n",
        "model.add(BatchNormalization())\n",
        "model.add(Activation(\"relu\"))\n",
        "model.add(Dropout(0.6))\n",
        "\n",
        "model.add(Dense(7))\n",
        "model.add(Activation('softmax'))\n",
        "\n",
        "model.compile(loss='categorical_crossentropy', optimizer='adam', metrics=['accuracy'])\n",
        "model.summary()"
      ],
      "execution_count": 23,
      "outputs": [
        {
          "output_type": "stream",
          "text": [
            "_________________________________________________________________\n",
            "Layer (type)                 Output Shape              Param #   \n",
            "=================================================================\n",
            "conv2d_1 (Conv2D)            (None, 46, 46, 64)        640       \n",
            "_________________________________________________________________\n",
            "batch_normalization_1 (Batch (None, 46, 46, 64)        256       \n",
            "_________________________________________________________________\n",
            "activation_1 (Activation)    (None, 46, 46, 64)        0         \n",
            "_________________________________________________________________\n",
            "conv2d_2 (Conv2D)            (None, 44, 44, 64)        36928     \n",
            "_________________________________________________________________\n",
            "batch_normalization_2 (Batch (None, 44, 44, 64)        256       \n",
            "_________________________________________________________________\n",
            "activation_2 (Activation)    (None, 44, 44, 64)        0         \n",
            "_________________________________________________________________\n",
            "max_pooling2d_1 (MaxPooling2 (None, 22, 22, 64)        0         \n",
            "_________________________________________________________________\n",
            "dropout_1 (Dropout)          (None, 22, 22, 64)        0         \n",
            "_________________________________________________________________\n",
            "conv2d_3 (Conv2D)            (None, 20, 20, 32)        18464     \n",
            "_________________________________________________________________\n",
            "batch_normalization_3 (Batch (None, 20, 20, 32)        128       \n",
            "_________________________________________________________________\n",
            "activation_3 (Activation)    (None, 20, 20, 32)        0         \n",
            "_________________________________________________________________\n",
            "conv2d_4 (Conv2D)            (None, 18, 18, 32)        9248      \n",
            "_________________________________________________________________\n",
            "batch_normalization_4 (Batch (None, 18, 18, 32)        128       \n",
            "_________________________________________________________________\n",
            "activation_4 (Activation)    (None, 18, 18, 32)        0         \n",
            "_________________________________________________________________\n",
            "conv2d_5 (Conv2D)            (None, 16, 16, 32)        9248      \n",
            "_________________________________________________________________\n",
            "batch_normalization_5 (Batch (None, 16, 16, 32)        128       \n",
            "_________________________________________________________________\n",
            "activation_5 (Activation)    (None, 16, 16, 32)        0         \n",
            "_________________________________________________________________\n",
            "max_pooling2d_2 (MaxPooling2 (None, 8, 8, 32)          0         \n",
            "_________________________________________________________________\n",
            "dropout_2 (Dropout)          (None, 8, 8, 32)          0         \n",
            "_________________________________________________________________\n",
            "flatten_1 (Flatten)          (None, 2048)              0         \n",
            "_________________________________________________________________\n",
            "dense_1 (Dense)              (None, 128)               262272    \n",
            "_________________________________________________________________\n",
            "batch_normalization_6 (Batch (None, 128)               512       \n",
            "_________________________________________________________________\n",
            "activation_6 (Activation)    (None, 128)               0         \n",
            "_________________________________________________________________\n",
            "dropout_3 (Dropout)          (None, 128)               0         \n",
            "_________________________________________________________________\n",
            "dense_2 (Dense)              (None, 7)                 903       \n",
            "_________________________________________________________________\n",
            "activation_7 (Activation)    (None, 7)                 0         \n",
            "=================================================================\n",
            "Total params: 339,111\n",
            "Trainable params: 338,407\n",
            "Non-trainable params: 704\n",
            "_________________________________________________________________\n"
          ],
          "name": "stdout"
        }
      ]
    },
    {
      "metadata": {
        "id": "_P-ftHwmVhkG",
        "colab_type": "code",
        "colab": {
          "base_uri": "https://localhost:8080/",
          "height": 714
        },
        "outputId": "476c3327-90c4-40fb-9746-1f697a35446e"
      },
      "cell_type": "code",
      "source": [
        "# save best weights\n",
        "checkpointer = ModelCheckpoint(filepath='face_model.h5', verbose=1, save_best_only=True)\n",
        "\n",
        "# num epochs\n",
        "epochs = 10\n",
        "\n",
        "# run model\n",
        "hist = model.fit(x_train, y_train, epochs=epochs,\n",
        "                 shuffle=True,\n",
        "                 batch_size=100, validation_data=(x_test, y_test),\n",
        "                 callbacks=[checkpointer], verbose=2)\n",
        "\n",
        "# save model to json\n",
        "model_json = model.to_json()\n",
        "with open(\"face_model.json\", \"w\") as json_file:\n",
        "    json_file.write(model_json)"
      ],
      "execution_count": 24,
      "outputs": [
        {
          "output_type": "stream",
          "text": [
            "Train on 28709 samples, validate on 3589 samples\n",
            "Epoch 1/10\n",
            " - 25s - loss: 1.9716 - acc: 0.2566 - val_loss: 1.6154 - val_acc: 0.3761\n",
            "\n",
            "Epoch 00001: val_loss improved from inf to 1.61543, saving model to face_model.h5\n",
            "Epoch 2/10\n",
            " - 22s - loss: 1.6459 - acc: 0.3523 - val_loss: 1.5158 - val_acc: 0.4257\n",
            "\n",
            "Epoch 00002: val_loss improved from 1.61543 to 1.51584, saving model to face_model.h5\n",
            "Epoch 3/10\n",
            " - 22s - loss: 1.5226 - acc: 0.4097 - val_loss: 1.4327 - val_acc: 0.4433\n",
            "\n",
            "Epoch 00003: val_loss improved from 1.51584 to 1.43273, saving model to face_model.h5\n",
            "Epoch 4/10\n",
            " - 22s - loss: 1.4608 - acc: 0.4357 - val_loss: 1.3693 - val_acc: 0.4681\n",
            "\n",
            "Epoch 00004: val_loss improved from 1.43273 to 1.36931, saving model to face_model.h5\n",
            "Epoch 5/10\n",
            " - 22s - loss: 1.4081 - acc: 0.4544 - val_loss: 1.3497 - val_acc: 0.4745\n",
            "\n",
            "Epoch 00005: val_loss improved from 1.36931 to 1.34965, saving model to face_model.h5\n",
            "Epoch 6/10\n",
            " - 22s - loss: 1.3760 - acc: 0.4706 - val_loss: 1.2883 - val_acc: 0.5054\n",
            "\n",
            "Epoch 00006: val_loss improved from 1.34965 to 1.28834, saving model to face_model.h5\n",
            "Epoch 7/10\n",
            " - 22s - loss: 1.3429 - acc: 0.4824 - val_loss: 1.3062 - val_acc: 0.4921\n",
            "\n",
            "Epoch 00007: val_loss did not improve from 1.28834\n",
            "Epoch 8/10\n",
            " - 22s - loss: 1.3083 - acc: 0.4989 - val_loss: 1.2328 - val_acc: 0.5244\n",
            "\n",
            "Epoch 00008: val_loss improved from 1.28834 to 1.23284, saving model to face_model.h5\n",
            "Epoch 9/10\n",
            " - 22s - loss: 1.2881 - acc: 0.5065 - val_loss: 1.1924 - val_acc: 0.5414\n",
            "\n",
            "Epoch 00009: val_loss improved from 1.23284 to 1.19237, saving model to face_model.h5\n",
            "Epoch 10/10\n",
            " - 22s - loss: 1.2702 - acc: 0.5102 - val_loss: 1.1913 - val_acc: 0.5419\n",
            "\n",
            "Epoch 00010: val_loss improved from 1.19237 to 1.19133, saving model to face_model.h5\n"
          ],
          "name": "stdout"
        }
      ]
    },
    {
      "metadata": {
        "id": "CiSKGn2jVhkK",
        "colab_type": "code",
        "colab": {
          "base_uri": "https://localhost:8080/",
          "height": 233
        },
        "outputId": "bd898ff1-d1a6-4b24-ea31-6b766fb759a9"
      },
      "cell_type": "code",
      "source": [
        "plt.figure(figsize=(14,3))\n",
        "plt.subplot(1, 2, 1)\n",
        "plt.suptitle('Optimizer : Adam', fontsize=10)\n",
        "plt.ylabel('Loss', fontsize=16)\n",
        "plt.plot(hist.history['loss'], color='b', label='Training Loss')\n",
        "plt.plot(hist.history['val_loss'], color='r', label='Validation Loss')\n",
        "plt.legend(loc='upper right')\n",
        "\n",
        "plt.subplot(1, 2, 2)\n",
        "plt.ylabel('Accuracy', fontsize=16)\n",
        "plt.plot(hist.history['acc'], color='b', label='Training Accuracy')\n",
        "plt.plot(hist.history['val_acc'], color='r', label='Validation Accuracy')\n",
        "plt.legend(loc='lower right')\n",
        "plt.show()"
      ],
      "execution_count": 25,
      "outputs": [
        {
          "output_type": "display_data",
          "data": {
            "image/png": "[encoded data removed]",
            "text/plain": [
              "<matplotlib.figure.Figure at 0x7f562e128c18>"
            ]
          },
          "metadata": {
            "tags": []
          }
        }
      ]
    },
    {
      "metadata": {
        "id": "AyAkfd_dVhkN",
        "colab_type": "code",
        "colab": {
          "base_uri": "https://localhost:8080/",
          "height": 204
        },
        "outputId": "7ad2770c-444a-43b2-efa2-2af8edd42cf5"
      },
      "cell_type": "code",
      "source": [
        "test = df[[\"emotion\", \"pixels\"]][df[\"Usage\"] == \"PrivateTest\"]\n",
        "test[\"pixels\"] = test[\"pixels\"].apply(lambda im: np.fromstring(im, sep=' '))\n",
        "test.head()"
      ],
      "execution_count": 26,
      "outputs": [
        {
          "output_type": "execute_result",
          "data": {
            "text/html": [
              "<div>\n",
              "<style scoped>\n",
              "    .dataframe tbody tr th:only-of-type {\n",
              "        vertical-align: middle;\n",
              "    }\n",
              "\n",
              "    .dataframe tbody tr th {\n",
              "        vertical-align: top;\n",
              "    }\n",
              "\n",
              "    .dataframe thead th {\n",
              "        text-align: right;\n",
              "    }\n",
              "</style>\n",
              "<table border=\"1\" class=\"dataframe\">\n",
              "  <thead>\n",
              "    <tr style=\"text-align: right;\">\n",
              "      <th></th>\n",
              "      <th>emotion</th>\n",
              "      <th>pixels</th>\n",
              "    </tr>\n",
              "  </thead>\n",
              "  <tbody>\n",
              "    <tr>\n",
              "      <th>32298</th>\n",
              "      <td>0</td>\n",
              "      <td>[170.0, 118.0, 101.0, 88.0, 88.0, 75.0, 78.0, ...</td>\n",
              "    </tr>\n",
              "    <tr>\n",
              "      <th>32299</th>\n",
              "      <td>5</td>\n",
              "      <td>[7.0, 5.0, 8.0, 6.0, 7.0, 3.0, 2.0, 6.0, 5.0, ...</td>\n",
              "    </tr>\n",
              "    <tr>\n",
              "      <th>32300</th>\n",
              "      <td>6</td>\n",
              "      <td>[232.0, 240.0, 241.0, 239.0, 237.0, 235.0, 246...</td>\n",
              "    </tr>\n",
              "    <tr>\n",
              "      <th>32301</th>\n",
              "      <td>4</td>\n",
              "      <td>[200.0, 197.0, 149.0, 139.0, 156.0, 89.0, 111....</td>\n",
              "    </tr>\n",
              "    <tr>\n",
              "      <th>32302</th>\n",
              "      <td>2</td>\n",
              "      <td>[40.0, 28.0, 33.0, 56.0, 45.0, 33.0, 31.0, 78....</td>\n",
              "    </tr>\n",
              "  </tbody>\n",
              "</table>\n",
              "</div>"
            ],
            "text/plain": [
              "       emotion                                             pixels\n",
              "32298        0  [170.0, 118.0, 101.0, 88.0, 88.0, 75.0, 78.0, ...\n",
              "32299        5  [7.0, 5.0, 8.0, 6.0, 7.0, 3.0, 2.0, 6.0, 5.0, ...\n",
              "32300        6  [232.0, 240.0, 241.0, 239.0, 237.0, 235.0, 246...\n",
              "32301        4  [200.0, 197.0, 149.0, 139.0, 156.0, 89.0, 111....\n",
              "32302        2  [40.0, 28.0, 33.0, 56.0, 45.0, 33.0, 31.0, 78...."
            ]
          },
          "metadata": {
            "tags": []
          },
          "execution_count": 26
        }
      ]
    },
    {
      "metadata": {
        "id": "XyQfu-JsVhkS",
        "colab_type": "code",
        "colab": {}
      },
      "cell_type": "code",
      "source": [
        "x_test_private = np.vstack(test[\"pixels\"].values)\n",
        "y_test_private = np.array(test[\"emotion\"])"
      ],
      "execution_count": 0,
      "outputs": []
    },
    {
      "metadata": {
        "id": "HK0PLHueVhkU",
        "colab_type": "code",
        "colab": {
          "base_uri": "https://localhost:8080/",
          "height": 34
        },
        "outputId": "73a796a9-fcf8-4226-fd39-0e33d5983625"
      },
      "cell_type": "code",
      "source": [
        "x_test_private = x_test_private.reshape(-1, 48, 48, 1)\n",
        "y_test_private = np_utils.to_categorical(y_test_private)\n",
        "x_test_private.shape, y_test_private.shape"
      ],
      "execution_count": 28,
      "outputs": [
        {
          "output_type": "execute_result",
          "data": {
            "text/plain": [
              "((3589, 48, 48, 1), (3589, 7))"
            ]
          },
          "metadata": {
            "tags": []
          },
          "execution_count": 28
        }
      ]
    },
    {
      "metadata": {
        "id": "inGeIf0bVhkX",
        "colab_type": "code",
        "colab": {
          "base_uri": "https://localhost:8080/",
          "height": 34
        },
        "outputId": "d13750e3-3a6a-4548-a72b-d68efe57c206"
      },
      "cell_type": "code",
      "source": [
        "score = model.evaluate(x_test_private, y_test_private, verbose=0)\n",
        "score"
      ],
      "execution_count": 29,
      "outputs": [
        {
          "output_type": "execute_result",
          "data": {
            "text/plain": [
              "[1.1860277229579055, 0.5436054611644495]"
            ]
          },
          "metadata": {
            "tags": []
          },
          "execution_count": 29
        }
      ]
    }
  ]
}